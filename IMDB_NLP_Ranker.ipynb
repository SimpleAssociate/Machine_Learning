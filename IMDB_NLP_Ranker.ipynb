{
  "nbformat": 4,
  "nbformat_minor": 0,
  "metadata": {
    "colab": {
      "name": "Untitled0.ipynb",
      "provenance": [],
      "authorship_tag": "ABX9TyMnnIhprr8T8zFgcKhpLf7M",
      "include_colab_link": true
    },
    "kernelspec": {
      "name": "python3",
      "display_name": "Python 3"
    },
    "accelerator": "GPU"
  },
  "cells": [
    {
      "cell_type": "markdown",
      "metadata": {
        "id": "view-in-github",
        "colab_type": "text"
      },
      "source": [
        "<a href=\"https://colab.research.google.com/github/simpledaddy/Machine_Learning/blob/master/IMDB_NLP_Ranker.ipynb\" target=\"_parent\"><img src=\"https://colab.research.google.com/assets/colab-badge.svg\" alt=\"Open In Colab\"/></a>"
      ]
    },
    {
      "cell_type": "code",
      "metadata": {
        "id": "GQJ1Al4J4JYt",
        "outputId": "f1dc379b-31ff-4316-a7b5-1b59a3afeb79",
        "colab": {
          "base_uri": "https://localhost:8080/"
        }
      },
      "source": [
        "%tensorflow_version 2.x\n",
        "import tensorflow as tf \n",
        "from keras.datasets import imdb \n",
        "from keras.preprocessing import sequence\n",
        "import os \n",
        "import numpy as np \n",
        "\n",
        "VOCAB_SIZE = 88584 \n",
        "\n",
        "MAXLEN = 250 \n",
        "BATCH_SIZE = 64 \n",
        "\n",
        "(train_data, train_labels), (test_data, test_labels) = imdb.load_data(num_words= VOCAB_SIZE)\n",
        "\n",
        "train_data = sequence.pad_sequences(train_data, MAXLEN)\n",
        "test_data = sequence.pad_sequences(test_data, MAXLEN)\n",
        "model = tf.keras.Sequential([\n",
        "                              tf.keras.layers.Embedding(VOCAB_SIZE, 32),\n",
        "                              tf.keras.layers.LSTM(32),\n",
        "                              tf.keras.layers.Dense(1, activation = \"sigmoid\")\n",
        " ])\n",
        "                          \n",
        "\n",
        "model.compile(loss = \"binary_crossentropy\", optimizer = \"rmsprop\", metrics = ['acc'])\n",
        "\n",
        "history = model.fit(train_data, train_labels, epochs = 10, validation_split = 0.2, verbose = 0)\n",
        "\n",
        "results = model.evaluate(test_data, test_labels)\n",
        "print(results)\n",
        "\n",
        "\n",
        "#making predictions \n",
        "\n",
        "\n",
        "word_index = imdb.get_word_index()\n",
        "#word encodeing function \n",
        "def encode_text(text): \n",
        "  tokens = keras.preprocessing.text.text_to_word_sequence(text) \n",
        "  tokens = [word_index[word] if word in word_index else 0 for word in tokens]\n",
        "  return sequence.pad_sequences([tokens], MAXLEN)[0]\n",
        "\n",
        "text = \"that move was amazing\"\n",
        "encoded = encode_text(text)\n",
        "print(encoded)\n",
        "\n",
        "#word decoding function \n",
        "reverse_word_index = {value: key for (key, value) in word_index.items()}\n",
        "\n",
        "def decode_integers(integers):\n",
        "  PAD = 0\n",
        "  text = \"\"\n",
        "  for num in integers: \n",
        "    if num != PAD:\n",
        "      text +=reverse_word_index[num] + \" \"\n",
        "\n",
        "  return text[:-1]\n",
        "\n",
        "\n",
        "print(decode_integers(encoded))\n",
        "\n",
        "\n",
        "#prediction\n",
        "\n",
        "def predict(text): \n",
        "  encoded_text = encode_text(text)\n",
        "  pred = np.zeros((1,250))\n",
        "  pred[0]= encoded_text \n",
        "  prediction  =model.predict(pred)\n",
        "  print(prediction[0])\n",
        "\n",
        "\n",
        "  \n",
        "\n"
      ],
      "execution_count": 1,
      "outputs": [
        {
          "output_type": "stream",
          "text": [
            "Downloading data from https://storage.googleapis.com/tensorflow/tf-keras-datasets/imdb.npz\n",
            "17465344/17464789 [==============================] - 0s 0us/step\n",
            "782/782 [==============================] - 5s 7ms/step - loss: 0.4982 - acc: 0.8545\n",
            "[0.49824559688568115, 0.8545200228691101]\n"
          ],
          "name": "stdout"
        }
      ]
    }
  ]
}